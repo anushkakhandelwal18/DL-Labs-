{
 "cells": [
  {
   "cell_type": "markdown",
   "metadata": {
    "id": "_biKuDwxwjDQ"
   },
   "source": [
    "Name: Anushka Khandelwal\n",
    "\n",
    "Roll: E1-06\n",
    "\n",
    "Branch: CSE(AIML)"
   ]
  },
  {
   "cell_type": "markdown",
   "metadata": {
    "id": "FDe0pEedh3ju"
   },
   "source": [
    "# DL LAB-1\n",
    "\n",
    "Write a program to implement:\n",
    "1. vanilla gradient descent\n",
    "2. momentum based gradient descent\n",
    "\n",
    "Consider two points (2, 0.3) and (6, 0.8)\n",
    "\n",
    "Approximate these two points by using above mentioned algorithm also plot the approximation plot."
   ]
  },
  {
   "cell_type": "code",
   "execution_count": 1,
   "metadata": {
    "id": "hBf-WC05lA5u"
   },
   "outputs": [],
   "source": [
    "import math\n",
    "\n",
    "def sig(num):\n",
    "  # 1/(1 + e^(-x))\n",
    "  return 1/(1 + math.exp(-num))\n",
    "\n",
    "def calc(x, w):\n",
    "  z = x*w[0] + w[1];\n",
    "  # z is currently the net result\n",
    "  # we will calculate with activation sigmoid function now\n",
    "  z = sig(z)\n",
    "  return z\n",
    "\n",
    "# change in weight i.e. derivative of sigmoid function\n",
    "def cw(x, y, w):\n",
    "  y1 = calc(x,w)\n",
    "  dw = (y1 - y)*(1 - y1)*x\n",
    "  return dw\n",
    "\n",
    "# calculate total error\n",
    "def totalError(y1, y):\n",
    "  z = 0\n",
    "  for i in range(len(y)):\n",
    "    z += (y[i] - y1[i])**2\n",
    "  z = z/len(y)\n",
    "  return round(z,4)"
   ]
  },
  {
   "cell_type": "markdown",
   "metadata": {
    "id": "6MZwAAh9mco2"
   },
   "source": [
    "## 1. Vanilla Gradient Descent\n",
    "Steps to train the node:\n",
    "1. calculate y1 (the output we calculated)\n",
    "2. calculate change in weight by gradient descent formula\n",
    "  - i.e: dw = (y1 - y) * y1 * (1 - y1) * xi\n",
    "3. adjust new weights\n",
    "  - wi+1 = wi - ita*dw\n",
    "\n",
    "loop these 3 steps 1000 times"
   ]
  },
  {
   "cell_type": "code",
   "execution_count": 3,
   "metadata": {
    "id": "IDN8S_w13mt_"
   },
   "outputs": [],
   "source": [
    "x = [2, 6] # input\n",
    "y = [0.3, 0.8] # output\n",
    "w = [1, 0] # initial weights"
   ]
  },
  {
   "cell_type": "code",
   "execution_count": 4,
   "metadata": {
    "colab": {
     "base_uri": "https://localhost:8080/"
    },
    "id": "pOV3Q1r3lAGp",
    "outputId": "45effe71-5b94-418c-da5c-7938939a8431"
   },
   "outputs": [
    {
     "name": "stdout",
     "output_type": "stream",
     "text": [
      "calculated output:  [0.4235467057202685, 0.6488820539481949]\n",
      "total error:  0.0191\n",
      "new weights:  [0.3768397168174921, -0.6231602831825076]\n"
     ]
    }
   ],
   "source": [
    "epoch = 1000\n",
    "ita = 1\n",
    "y1Arr = []\n",
    "for i in range(epoch):\n",
    "  y1Arr = []\n",
    "  for i in x:\n",
    "    y1 = calc(i,w)\n",
    "    y1Arr.append(y1)\n",
    "  dw = 0\n",
    "  for i in range(len(x)):\n",
    "    dw += (y1Arr[i] - y[i]) * y1Arr[i] * (1 - y1Arr[i]) * x[i]\n",
    "  nw = []\n",
    "  for i in range(len(w)):\n",
    "    temp = w[i] - ita*dw\n",
    "    nw.append(temp)\n",
    "  w = nw\n",
    "print('calculated output: ',y1Arr)\n",
    "print('total error: ', totalError(y1Arr, y))\n",
    "print(\"new weights: \", nw)"
   ]
  },
  {
   "cell_type": "code",
   "execution_count": 5,
   "metadata": {
    "colab": {
     "base_uri": "https://localhost:8080/",
     "height": 261
    },
    "id": "6J-92O4GlzVT",
    "outputId": "d8c89c8f-8626-4195-c362-0eb79419fdcd"
   },
   "outputs": [
    {
     "data": {
      "image/png": "[encoded data removed]",
      "text/plain": [
       "<Figure size 504x252 with 1 Axes>"
      ]
     },
     "metadata": {
      "needs_background": "light"
     },
     "output_type": "display_data"
    }
   ],
   "source": [
    "import matplotlib.pyplot as plt\n",
    "import numpy as np\n",
    "\n",
    "plt.rcParams[\"figure.figsize\"] = [7.00, 3.50]\n",
    "plt.rcParams[\"figure.autolayout\"] = True\n",
    "\n",
    "def draw_curve(p1, p2):\n",
    "   a = (p2[1] - p1[1]) / (np.cosh(p2[0]) - np.cosh(p1[0]))\n",
    "   b = p1[1] - a * np.cosh(p1[0])\n",
    "   x = np.linspace(p1[0], p2[0], 100)\n",
    "   y = a * np.cosh(x) + b\n",
    "   return x, y\n",
    "\n",
    "# actual point\n",
    "p1 = [x[0], y[0]]\n",
    "p2 = [x[1], y[1]]\n",
    "plt.plot(p1[0], p1[1], 'o')\n",
    "plt.plot(p2[0], p2[1], 'o')\n",
    "\n",
    "cx, cy = draw_curve(p1, p2)\n",
    "plt.plot(cx, cy, label=\"actual\")\n",
    "\n",
    "# the curve we have\n",
    "py1 = [x[0], y1Arr[0]]\n",
    "py2 = [x[1], y1Arr[1]]\n",
    "cx, cy = draw_curve(py1, py2)\n",
    "plt.plot(cx, cy, label=\"calculated\")\n",
    "leg = plt.legend(loc='upper center')\n",
    "plt.show()"
   ]
  },
  {
   "cell_type": "markdown",
   "metadata": {
    "id": "-0lilApv2LLi"
   },
   "source": [
    "## 2. Momentum based\n",
    "Steps to train the node:\n",
    "1. calculate yDash (the output we calculated)\n",
    "2. calculate change in weight by gradient descent formula\n",
    "  - newUpdate = gamma*oldUpdate + ita*dw\n",
    "  - i.e: dw = (y1 - y) * y1 * (1 - y1) * xi\n",
    "3. adjust new weights\n",
    "  - wi+1 = wi - newUpdate\n",
    "\n",
    "loop these 3 steps 1000 times"
   ]
  },
  {
   "cell_type": "code",
   "execution_count": 6,
   "metadata": {
    "id": "nL0ovetm3EUF"
   },
   "outputs": [],
   "source": [
    "# reset \n",
    "x = [2, 6] # input\n",
    "y = [0.3, 0.8] # output\n",
    "w = [1, -0.5] # initial weights"
   ]
  },
  {
   "cell_type": "code",
   "execution_count": 7,
   "metadata": {
    "colab": {
     "base_uri": "https://localhost:8080/"
    },
    "id": "5TxCCrektB3X",
    "outputId": "97f76b67-4c48-4d18-911b-436ffd11977d"
   },
   "outputs": [
    {
     "name": "stdout",
     "output_type": "stream",
     "text": [
      "calculated output:  [0.415961157860009, 0.7699667709285674]\n",
      "total error:  0.0072\n",
      "new weights:  [0.36244871922051797, -1.1375512807794836]\n"
     ]
    }
   ],
   "source": [
    "epoch = 1000\n",
    "ita = 1\n",
    "gamma = 0.1\n",
    "y1Arr = []\n",
    "update = 0\n",
    "for i in range(epoch):\n",
    "  y1Arr = []\n",
    "  for i in x:\n",
    "    y1 = calc(i,w)\n",
    "    y1Arr.append(y1)\n",
    "  dw = 0\n",
    "  for i in range(len(x)):\n",
    "    dw += (y1Arr[i] - y[i]) * y1Arr[i] * (1 - y1Arr[i]) * x[i]\n",
    "\n",
    "  newUpdate = gamma*update + ita*dw\n",
    "  nw = []\n",
    "  for i in range(len(w)):\n",
    "    temp = w[i] - newUpdate\n",
    "    nw.append(temp)\n",
    "  w = nw\n",
    "print('calculated output: ',y1Arr)\n",
    "print('total error: ', totalError(y1Arr, y))\n",
    "print(\"new weights: \", nw)"
   ]
  },
  {
   "cell_type": "code",
   "execution_count": 8,
   "metadata": {
    "colab": {
     "base_uri": "https://localhost:8080/",
     "height": 261
    },
    "id": "-t9GR3k42Z6b",
    "outputId": "dcb074d2-1974-4ce5-d458-600999d2021b"
   },
   "outputs": [
    {
     "data": {
      "image/png": "[encoded data removed]",
      "text/plain": [
       "<Figure size 504x252 with 1 Axes>"
      ]
     },
     "metadata": {
      "needs_background": "light"
     },
     "output_type": "display_data"
    }
   ],
   "source": [
    "import matplotlib.pyplot as plt\n",
    "import numpy as np\n",
    "\n",
    "plt.rcParams[\"figure.figsize\"] = [7.00, 3.50]\n",
    "plt.rcParams[\"figure.autolayout\"] = True\n",
    "\n",
    "def draw_curve(p1, p2):\n",
    "   a = (p2[1] - p1[1]) / (np.cosh(p2[0]) - np.cosh(p1[0]))\n",
    "   b = p1[1] - a * np.cosh(p1[0])\n",
    "   x = np.linspace(p1[0], p2[0], 100)\n",
    "   y = a * np.cosh(x) + b\n",
    "   return x, y\n",
    "\n",
    "# actual point\n",
    "p1 = [x[0], y[0]]\n",
    "p2 = [x[1], y[1]]\n",
    "plt.plot(p1[0], p1[1], 'o')\n",
    "plt.plot(p2[0], p2[1], 'o')\n",
    "\n",
    "cx, cy = draw_curve(p1, p2)\n",
    "plt.plot(cx, cy, label=\"actual\")\n",
    "\n",
    "# the curve we have\n",
    "py1 = [x[0], y1Arr[0]]\n",
    "py2 = [x[1], y1Arr[1]]\n",
    "cx, cy = draw_curve(py1, py2)\n",
    "plt.plot(cx, cy, label=\"calculated\")\n",
    "leg = plt.legend(loc='upper center')\n",
    "plt.show()"
   ]
  },
  {
   "cell_type": "code",
   "execution_count": null,
   "metadata": {
    "id": "9DoJiMvk2bS1"
   },
   "outputs": [],
   "source": []
  }
 ],
 "metadata": {
  "colab": {
   "provenance": []
  },
  "kernelspec": {
   "display_name": "Python 3",
   "language": "python",
   "name": "python3"
  },
  "language_info": {
   "codemirror_mode": {
    "name": "ipython",
    "version": 3
   },
   "file_extension": ".py",
   "mimetype": "text/x-python",
   "name": "python",
   "nbconvert_exporter": "python",
   "pygments_lexer": "ipython3",
   "version": "3.8.5"
  }
 },
 "nbformat": 4,
 "nbformat_minor": 1
}
