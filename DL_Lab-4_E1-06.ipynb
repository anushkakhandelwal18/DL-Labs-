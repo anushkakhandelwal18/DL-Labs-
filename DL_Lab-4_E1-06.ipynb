{
 "cells": [
  {
   "cell_type": "markdown",
   "metadata": {},
   "source": [
    "# LAB-4a (Autoencoders)\n",
    "\n",
    "### Name: Anushka Khandelwal\n",
    "### Roll no: E1-06\n",
    "### Branch: CSE (AI&ML)"
   ]
  },
  {
   "cell_type": "code",
   "execution_count": 41,
   "metadata": {},
   "outputs": [],
   "source": [
    "import numpy as np\n",
    "import matplotlib.pyplot as plt"
   ]
  },
  {
   "cell_type": "code",
   "execution_count": 42,
   "metadata": {},
   "outputs": [],
   "source": [
    "def sig(x):\n",
    "     return 1.0 / (1.0 + np.exp(-x))\n",
    "    \n",
    "def sigm_der(x):\n",
    "    return sig(x) * (1 - sig(x))"
   ]
  },
  {
   "cell_type": "code",
   "execution_count": 43,
   "metadata": {},
   "outputs": [],
   "source": [
    "def binary_cross_entropy(y_true, y_pred):\n",
    "    return -np.mean(y_true * np.log(y_pred) + (1 - y_true) * np.log(1 - y_pred))"
   ]
  },
  {
   "cell_type": "code",
   "execution_count": 44,
   "metadata": {},
   "outputs": [],
   "source": [
    "def binary_cross_entropy_derivative(y_true, y_pred):\n",
    "    return -(y_true / y_pred) + (1 - y_true) / (1 - y_pred)"
   ]
  },
  {
   "cell_type": "code",
   "execution_count": 54,
   "metadata": {},
   "outputs": [],
   "source": [
    "X = np.array([[1, 0, 1, 1, 1]])"
   ]
  },
  {
   "cell_type": "code",
   "execution_count": 55,
   "metadata": {},
   "outputs": [],
   "source": [
    "input_size = X.shape[1]\n",
    "hidden_size = 4\n",
    "output_size = input_size"
   ]
  },
  {
   "cell_type": "code",
   "execution_count": 56,
   "metadata": {},
   "outputs": [],
   "source": [
    "np.random.seed(0)\n",
    "W1 = np.random.randn(input_size, hidden_size)\n",
    "W2 = np.random.randn(hidden_size, output_size)"
   ]
  },
  {
   "cell_type": "code",
   "execution_count": 57,
   "metadata": {},
   "outputs": [],
   "source": [
    "epochs = 1000\n",
    "learning_rate = 0.01"
   ]
  },
  {
   "cell_type": "code",
   "execution_count": 58,
   "metadata": {},
   "outputs": [
    {
     "name": "stdout",
     "output_type": "stream",
     "text": [
      "Epoch 0, Loss: 1.5645263770825237\n",
      "Epoch 100, Loss: 0.3815375438875873\n",
      "Epoch 200, Loss: 0.15492009163082887\n",
      "Epoch 300, Loss: 0.06551887772242053\n",
      "Epoch 400, Loss: 0.027902742839639207\n",
      "Epoch 500, Loss: 0.011912173445562491\n",
      "Epoch 600, Loss: 0.005108809537526118\n",
      "Epoch 700, Loss: 0.0022104616788281403\n",
      "Epoch 800, Loss: 0.0009675265658357412\n",
      "Epoch 900, Loss: 0.00042815116768945064\n"
     ]
    }
   ],
   "source": [
    "for i in range(epochs):\n",
    "    hidden_layer = sig(np.dot(X, W1))\n",
    "    output_layer = sig(np.dot(hidden_layer, W2))\n",
    "    loss = binary_cross_entropy(X, output_layer)\n",
    "    if i % 100 == 0:\n",
    "        print(f\"Epoch {i}, Loss: {loss}\")\n",
    "    d_output = binary_cross_entropy_derivative(X, output_layer) * sigm_der(output_layer)\n",
    "    d_hidden = np.dot(d_output, W2.T) * sigm_der(hidden_layer)\n",
    "    W2 -= learning_rate * np.dot(hidden_layer.T, d_output)\n",
    "    W1 -= learning_rate * np.dot(X.T, d_hidden)"
   ]
  },
  {
   "cell_type": "code",
   "execution_count": 59,
   "metadata": {},
   "outputs": [
    {
     "name": "stdout",
     "output_type": "stream",
     "text": [
      "Reconstructed input: [[9.99590733e-01 6.85697756e-05 9.99860334e-01 9.99686128e-01\n",
      "  9.99976390e-01]]\n"
     ]
    }
   ],
   "source": [
    "reconstructed = sig(np.dot(sig(np.dot(X, W1)), W2))\n",
    "print(\"Reconstructed input:\", reconstructed)"
   ]
  },
  {
   "cell_type": "code",
   "execution_count": 39,
   "metadata": {},
   "outputs": [],
   "source": [
    "def backpropagation(X, y, weights, bias, learning_rate, num_epochs):\n",
    "    # Initialize empty lists to store the loss and accuracy history\n",
    "    loss_history = []\n",
    "    accuracy_history = []\n",
    "    for epoch in range(num_epochs):\n",
    "        z = np.dot(X, weights) + bias\n",
    "        a = sig(z)\n",
    "        loss = binary_cross_entropy_loss(y, a)\n",
    "        loss_history.append(loss)\n",
    "        dL_da = -(y/a) + (1-y)/(1-a)\n",
    "        da_dz = sigm_der(z)\n",
    "        dz_dw = X\n",
    "        dz_db = 1\n",
    "        dL_dw = np.dot(dz_dw.T, dL_da * da_dz)\n",
    "        dL_db = np.sum(dL_da * da_dz, axis=0, keepdims=True)\n",
    "        weights -= learning_rate * dL_dw\n",
    "        bias -= learning_rate * dL_db\n",
    "    return weights, bias, loss_history, accuracy_history\n",
    " "
   ]
  },
  {
   "cell_type": "code",
   "execution_count": null,
   "metadata": {},
   "outputs": [],
   "source": []
  }
 ],
 "metadata": {
  "kernelspec": {
   "display_name": "Python 3",
   "language": "python",
   "name": "python3"
  },
  "language_info": {
   "codemirror_mode": {
    "name": "ipython",
    "version": 3
   },
   "file_extension": ".py",
   "mimetype": "text/x-python",
   "name": "python",
   "nbconvert_exporter": "python",
   "pygments_lexer": "ipython3",
   "version": "3.8.5"
  }
 },
 "nbformat": 4,
 "nbformat_minor": 5
}
